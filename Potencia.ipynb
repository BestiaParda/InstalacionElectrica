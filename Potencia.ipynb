{
 "cells": [
  {
   "cell_type": "code",
   "execution_count": 2,
   "metadata": {},
   "outputs": [
    {
     "data": {
      "application/vnd.jupyter.widget-view+json": {
       "model_id": "34b880e52ddc4d5e9a61a417a2bf04a4",
       "version_major": 2,
       "version_minor": 0
      },
      "text/plain": [
       "SW50ZXJhY3RpdmUgZnVuY3Rpb24gPGZ1bmN0aW9uIGludGVyYWN0aXZlX2Z1bmN0aW9uIGF0IDB4N2YxZDIzZGUzYTI4PiB3aXRoIDEgd2lkZ2V0CiAgcHNpOiBUcmFuc2Zvcm1GbG9hdFNsaWTigKY=\n"
      ]
     },
     "metadata": {},
     "output_type": "display_data"
    }
   ],
   "source": [
    "voltaje(x)=sin(x)\n",
    "desfase=0\n",
    "@interact\n",
    "def interactive_function( psi= slider(0, pi/2)):\n",
    "    desfase=psi\n",
    "    intensidad(x)=0.8*sin(x+desfase)\n",
    "    potencia=voltaje*intensidad\n",
    "    activa=potencia*cos(desfase)\n",
    "    reactiva=potencia*sin(desfase)\n",
    "    t1 = text(\"potencia\",(1,2),color='red')\n",
    "    t2 = text(\"intensidad\",(1,1.8),color='green')\n",
    "    t3 = text(\"voltaje\",(1,1.6),color='navy')\n",
    "    show(plot(potencia, (x, 0, 2*pi),color='red')+plot(voltaje, (x, 0, 2*pi),color='navy')+plot(intensidad, (x, 0, 2*pi),color='green')+t1+t2+t3)\n",
    "    t1 = text(\"activa\",(1,2),color='red')\n",
    "    t2 = text(\"reactiva\",(1,1.8),color='navy')\n",
    "    show(plot(activa, (x, 0, 2*pi),color='red')+plot(reactiva, (x, 0, 2*pi),color='navy')+t1+t2)"
   ]
  },
  {
   "cell_type": "code",
   "execution_count": null,
   "metadata": {},
   "outputs": [],
   "source": []
  }
 ],
 "metadata": {
  "kernelspec": {
   "display_name": "SageMath (stable)",
   "language": "",
   "name": "sagemath"
  },
  "language_info": {
   "codemirror_mode": {
    "name": "ipython",
    "version": 2
   },
   "file_extension": ".py",
   "mimetype": "text/x-python",
   "name": "python",
   "nbconvert_exporter": "python",
   "pygments_lexer": "ipython2",
   "version": "2.7.15"
  }
 },
 "nbformat": 4,
 "nbformat_minor": 1
}
