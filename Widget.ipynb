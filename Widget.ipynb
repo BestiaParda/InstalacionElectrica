{
 "cells": [
  {
   "cell_type": "code",
   "execution_count": 1,
   "metadata": {},
   "outputs": [
    {
     "data": {
      "application/vnd.jupyter.widget-view+json": {
       "model_id": "83c1ad5beae741dcb65384b5edddf8e9",
       "version_major": 2,
       "version_minor": 0
      },
      "text/plain": [
       "A Jupyter Widget"
      ]
     },
     "metadata": {},
     "output_type": "display_data"
    }
   ],
   "source": [
    "from __future__ import print_function\n",
    "from ipywidgets import interact, interactive, fixed, interact_manual\n",
    "import ipywidgets as widgets\n",
    "def f(x):\n",
    "    return x\n",
    "interact(f, x=10);"
   ]
  },
  {
   "cell_type": "code",
   "execution_count": 2,
   "metadata": {},
   "outputs": [
    {
     "data": {
      "application/vnd.jupyter.widget-view+json": {
       "model_id": "510ddb64938b49c986623fc2ef77cdab",
       "version_major": 2,
       "version_minor": 0
      },
      "text/plain": [
       "A Jupyter Widget"
      ]
     },
     "metadata": {},
     "output_type": "display_data"
    }
   ],
   "source": [
    "from ipywidgets import interact\n",
    "\n",
    "interact(lambda x:x, x=True);"
   ]
  },
  {
   "cell_type": "code",
   "execution_count": null,
   "metadata": {
    "collapsed": true
   },
   "outputs": [],
   "source": []
  }
 ],
 "metadata": {
  "kernelspec": {
   "display_name": "Python 3",
   "language": "python",
   "name": "python3"
  },
  "language_info": {
   "codemirror_mode": {
    "name": "ipython",
    "version": 3
   },
   "file_extension": ".py",
   "mimetype": "text/x-python",
   "name": "python",
   "nbconvert_exporter": "python",
   "pygments_lexer": "ipython3",
   "version": "3.6.1"
  },
  "widgets": {
   "application/vnd.jupyter.widget-state+json": {
    "state": {
     "0c3b0e288c5841ffac5913912ece3b5d": {
      "model_module": "@jupyter-widgets/base",
      "model_module_version": "1.0.0",
      "model_name": "LayoutModel",
      "state": {}
     },
     "3d7c81c3245746f0baa157ab3445c1c1": {
      "model_module": "@jupyter-widgets/base",
      "model_module_version": "1.0.0",
      "model_name": "LayoutModel",
      "state": {}
     },
     "3dae90cc13e94c408959dee0c9b7537d": {
      "model_module": "@jupyter-widgets/base",
      "model_module_version": "1.0.0",
      "model_name": "LayoutModel",
      "state": {}
     },
     "510ddb64938b49c986623fc2ef77cdab": {
      "model_module": "@jupyter-widgets/controls",
      "model_module_version": "1.0.0",
      "model_name": "VBoxModel",
      "state": {
       "_dom_classes": [
        "widget-interact"
       ],
       "children": [
        "IPY_MODEL_e7591713483f4ecfaa0bd8d8c562000c",
        "IPY_MODEL_ec23788f26044c3e875721e790dba9fa"
       ],
       "layout": "IPY_MODEL_e7747320ab0149a2880f30aae44054c4"
      }
     },
     "5a5b971f40ba430883392127c28e0151": {
      "model_module": "@jupyter-widgets/base",
      "model_module_version": "1.0.0",
      "model_name": "LayoutModel",
      "state": {}
     },
     "5af63596fecc4347ad7be3b9ab983226": {
      "model_module": "@jupyter-widgets/base",
      "model_module_version": "1.0.0",
      "model_name": "LayoutModel",
      "state": {}
     },
     "8061085c66204c56b27a9942ddd7fc2c": {
      "model_module": "@jupyter-widgets/controls",
      "model_module_version": "1.0.0",
      "model_name": "SliderStyleModel",
      "state": {
       "description_width": ""
      }
     },
     "83c1ad5beae741dcb65384b5edddf8e9": {
      "model_module": "@jupyter-widgets/controls",
      "model_module_version": "1.0.0",
      "model_name": "VBoxModel",
      "state": {
       "_dom_classes": [
        "widget-interact"
       ],
       "children": [
        "IPY_MODEL_ee27e83f6a0a4cc0a4526531090b466d",
        "IPY_MODEL_97c175bf410b4afe9f00c0caf6d3df64"
       ],
       "layout": "IPY_MODEL_5af63596fecc4347ad7be3b9ab983226"
      }
     },
     "97c175bf410b4afe9f00c0caf6d3df64": {
      "model_module": "@jupyter-widgets/output",
      "model_module_version": "1.0.0",
      "model_name": "OutputModel",
      "state": {
       "layout": "IPY_MODEL_5a5b971f40ba430883392127c28e0151",
       "outputs": [
        {
         "data": {
          "text/plain": "10"
         },
         "metadata": {},
         "output_type": "display_data"
        }
       ]
      }
     },
     "9ef5dc0cfaa0419eaf4470a458137812": {
      "model_module": "@jupyter-widgets/controls",
      "model_module_version": "1.0.0",
      "model_name": "DescriptionStyleModel",
      "state": {
       "description_width": ""
      }
     },
     "e7591713483f4ecfaa0bd8d8c562000c": {
      "model_module": "@jupyter-widgets/controls",
      "model_module_version": "1.0.0",
      "model_name": "CheckboxModel",
      "state": {
       "description": "x",
       "disabled": false,
       "layout": "IPY_MODEL_3dae90cc13e94c408959dee0c9b7537d",
       "style": "IPY_MODEL_9ef5dc0cfaa0419eaf4470a458137812",
       "value": true
      }
     },
     "e7747320ab0149a2880f30aae44054c4": {
      "model_module": "@jupyter-widgets/base",
      "model_module_version": "1.0.0",
      "model_name": "LayoutModel",
      "state": {}
     },
     "ec23788f26044c3e875721e790dba9fa": {
      "model_module": "@jupyter-widgets/output",
      "model_module_version": "1.0.0",
      "model_name": "OutputModel",
      "state": {
       "layout": "IPY_MODEL_3d7c81c3245746f0baa157ab3445c1c1",
       "outputs": [
        {
         "data": {
          "text/plain": "True"
         },
         "metadata": {},
         "output_type": "display_data"
        }
       ]
      }
     },
     "ee27e83f6a0a4cc0a4526531090b466d": {
      "model_module": "@jupyter-widgets/controls",
      "model_module_version": "1.0.0",
      "model_name": "IntSliderModel",
      "state": {
       "description": "x",
       "layout": "IPY_MODEL_0c3b0e288c5841ffac5913912ece3b5d",
       "max": 30,
       "min": -10,
       "style": "IPY_MODEL_8061085c66204c56b27a9942ddd7fc2c",
       "value": 10
      }
     }
    },
    "version_major": 2,
    "version_minor": 0
   }
  }
 },
 "nbformat": 4,
 "nbformat_minor": 2
}
