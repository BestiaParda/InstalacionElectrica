{
 "cells": [
  {
   "cell_type": "code",
   "execution_count": 1,
   "metadata": {
    "collapsed": false
   },
   "outputs": [
    {
     "data": {
      "image/png": "[encoded data removed]",
      "text/html": [
       "<img src=data:image/png;base64,iVBORw0KGgoAAAANSUhEUgAAAy8AAAAvCAYAAADqxfWtAAAAAXNSR0IArs4c6QAAAARnQU1BAACxjwv8YQUAAAXiSURBVHhe7d1baFxpAQfwzCWzTcxGi3a7ujWs0NZYFJWui4oPrbisD4roWhVhHxRBBNmHhVVRpC64q1RBH8SHRR+8LKKCCmJVBB9EUEG8YKK9QAUrVkO2pVTamslk/H/paXpJ0qYPCXP5/eDP4Xxz5uEM03L++b5zZgQAAAAAAAAAAAAAAAAAAAAAAAAAAAAAAAAAAAAAAAAAtkSt2sJIt9ttnjx5cnu2d7fb7Xo1vEpe77ZarctjY2Nnp6amLlXDAACwqZQXVhw7dmw6veSTySPJWDW8Sq1WW8zmT41G48m9e/cezX73yisAALB51v3rOkPpzcmBlJHxFJPaeqnX66MpN69rt9sPzM7OPu/KWwEAYHMpL6zodDq7UkruSTkpsysbyZ4c/9Lq7QAAsKmUFwAAoC8oLwAAQF9QXgAAgL6gvMDgK0+Ouy95wfLeNY3knmR38uLkrgQAoGcpLzDYJpK3Jz9KPlAGrjOVfDb5RfKl5PXJaAIA0JOUFxhsb0o+mEwv711TZlkeTf6RlNLy0+Sh5ObjAAB6xrCVl/JX6PJo37JMZmfy/KQsp9mVrPujjNDHfpZ8JDm6vHfNq5PJ5M/Jf5I/JOXfxysSAICeNGy/sP/W5InkDcmzya+S9yWd5HPJb5J1HT58uH7o0KHm5cuXmzFwn12r1fpMrVZ7rF6vt6qhdXU6nZGlpaXv5tgjCwsLx6vhgXHu3LnOgQMHFvJ5LFVD/exlyeeT3yZleVjxnuQ1yQ+S3ycvTI4kf03KMYNw3gDAgBm28lKU4vLp5NfJj5MHk3LBdsviMjMz0xodHd2VC/byw4z3ZjtwNzfnQv2dKSNvSZrV0Lqq8vK7HHs0239Xw4PkbArqie3bt5/auXPnf6uxfrVWeflw8srkG8n15eVM8oXkfAIA0FOGsbwUZbblvclLkq8k30pu6fjx4w/m4v5w8nAu2BvZVq8MjsXFxeVSkvOrRtZ39bgUuuVf2x805fzin8mndu/e/e2cYz/PRKxVXj6UvCop3/3ry0s55y8mFxIAgJ4yrOWlrPX/aFJmYb6e/CRpJ+uanZ19YnJy8mMvim3btlWjg2Vubq4sl9pQGSkX9/k8Rnbs2FGWm1Wjg+XMmTMj8/PzR5rN5pF9+/Y9Vw33o7XKyzuSMutYZh/LeLkHrDx5rNwDUwo9AEDPGcanjZWbksvMy3xyOnkkeW1yy6VS3W63mYv68rsYZbnUQCbnuJy1Xrs5d3Jsv6aaWZpIURtf/hIMlpNJeUjF/Un5f6A8xKLMtvw9AQDoScM281Iu1t6flJmXH1bbp5KzSVkyU248X0xWOXHixEONRuMT4+Pjb2y1Wre9J6QfXbhwoX7+/Pn6wsLCcjG5lWazOTIxMdGdnJxcygX+rQ/uQzn/bj6PCxcvXnxybm7umYMHD16uXuo35TtfnixW7vP6Y1JmXs4lZRlcGSvF7HvJu5JSYr6WKDAAQE8atvJSlok9lpSLtC8nZcalrP2/O/lm8kxSHhu7phSYty0uLj66tLRUfo184NRqtfvb7fZ9SX0j5SWZy3tOJxer4YGRc2qnrP48+c6ePXvKDF2/uvqdf2B5b2Tkq0kpKGWWpfzi/seTdye/TMpysb8kAAA9aVjveWENs7OzT6ecPZ7cdbvykov6coH/bKfTeWr//v1/q4YBAGDTDOM9L9xGSsmGAwAAW0V54QalkJQb1W8XxQUAgK2mvHCDOy0vg/qYZAAAeo/ywg1KKdlIgbl6DAAAbBVXn9zgTmdeAABgqygv3EB5AQCgVykvrLJWWbk5lo0BALDVXH2yotvtLqWQlKwqKzenmnlZbDQaneU3AwDAJlNeWNFsNs9k81z5gcpSTtZLZSn518TExPyVXQAA2FxuXGDFqVOnXn7p0qXHU14ezm7zyuhqKTDder0+n+3T09PT36+GAQBgUykvrDIzMzM1Ojp6b7W7lv+NjY2dnpqaOlvtAwAAAAAAAAAAAAAAAAAAAAAAAAAAAAAAwOAaGfk/wkLIe/FRIK8AAAAASUVORK5CYII= class=\"jupyter-widget\">\n",
       "<script type=\"application/vnd.jupyter-embedded-widgets\">[{},{\"description\":\"x\",\"layout\":\"IPY_MODEL_698fe63d6273447085f50fcf1b52abbe\",\"max\":30,\"min\":-10,\"value\":10},{},{\"_dom_classes\":[\"widget-interact\"],\"children\":[\"IPY_MODEL_e5a6869994a84ad5a9a34b99de09adb7\"],\"layout\":\"IPY_MODEL_bf5a779292474071bd6ffa58ce4649b1\"}]</script>"
      ]
     },
     "metadata": {
      "isWidgetSnapshot": true
     },
     "output_type": "display_data"
    },
    {
     "data": {
      "text/plain": [
       "10"
      ]
     },
     "metadata": {},
     "output_type": "display_data"
    }
   ],
   "source": [
    "\n",
    "from __future__ import print_function\n",
    "from ipywidgets import interact, interactive, fixed\n",
    "import ipywidgets as widgets\n",
    "def f(x):\n",
    "    return x\n",
    "interact(f, x=10);"
   ]
  },
  {
   "cell_type": "code",
   "execution_count": null,
   "metadata": {
    "collapsed": true
   },
   "outputs": [],
   "source": []
  },
  {
   "cell_type": "code",
   "execution_count": null,
   "metadata": {
    "collapsed": true
   },
   "outputs": [],
   "source": []
  }
 ],
 "metadata": {
  "kernelspec": {
   "display_name": "Python 3",
   "language": "python",
   "name": "python3"
  },
  "language_info": {
   "codemirror_mode": {
    "name": "ipython",
    "version": 3
   },
   "file_extension": ".py",
   "mimetype": "text/x-python",
   "name": "python",
   "nbconvert_exporter": "python",
   "pygments_lexer": "ipython3",
   "version": "3.6.0"
  },
  "widgets": {
   "state": {
    "9d6b68efa90b4b5aa599a1a69aa246b9": {
     "views": [
      {
       "cell_index": 0
      }
     ]
    }
   },
   "version": "1.2.0"
  }
 },
 "nbformat": 4,
 "nbformat_minor": 0
}
