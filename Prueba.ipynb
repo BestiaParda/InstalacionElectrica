{
 "cells": [
  {
   "cell_type": "code",
   "execution_count": 1,
   "metadata": {
    "collapsed": false,
    "extensions": {
     "jupyter_dashboards": {
      "version": 1,
      "views": {
       "grid_default": {
        "col": 0,
        "height": 4,
        "hidden": false,
        "row": 0,
        "width": 4
       },
       "report_default": {}
      }
     }
    }
   },
   "outputs": [
    {
     "data": {
      "text/html": [
       "<marquee>DFW Pythoneers!!!</marquee>"
      ],
      "text/plain": [
       "<IPython.core.display.HTML object>"
      ]
     },
     "execution_count": 1,
     "metadata": {},
     "output_type": "execute_result"
    }
   ],
   "source": [
    "from IPython.display import HTML\n",
    "s = \"\"\"<marquee>DFW Pythoneers!!!</marquee>\"\"\"\n",
    "h = HTML(s); h"
   ]
  },
  {
   "cell_type": "code",
   "execution_count": 2,
   "metadata": {
    "collapsed": false,
    "extensions": {
     "jupyter_dashboards": {
      "version": 1,
      "views": {
       "grid_default": {
        "col": 4,
        "height": 4,
        "hidden": false,
        "row": 0,
        "width": 4
       },
       "report_default": {}
      }
     }
    }
   },
   "outputs": [
    {
     "data": {
      "text/html": [
       "<button type=\"button\" id=\"loading-example-btn\" data-loading-text=\"Loading...\" class=\"btn btn-primary\">\n",
       "  Loading state\n",
       "</button>"
      ],
      "text/plain": [
       "<IPython.core.display.HTML object>"
      ]
     },
     "metadata": {},
     "output_type": "display_data"
    }
   ],
   "source": [
    "%%HTML\n",
    "<button type=\"button\" id=\"loading-example-btn\" data-loading-text=\"Loading...\" class=\"btn btn-primary\">\n",
    "  Loading state\n",
    "</button>\n"
   ]
  },
  {
   "cell_type": "code",
   "execution_count": 8,
   "metadata": {
    "collapsed": false,
    "extensions": {
     "jupyter_dashboards": {
      "version": 1,
      "views": {
       "grid_default": {
        "col": 8,
        "height": 4,
        "hidden": false,
        "row": 0,
        "width": 4
       },
       "report_default": {}
      }
     }
    }
   },
   "outputs": [
    {
     "data": {
      "text/html": [
       "<script src=\"https://npmcdn.com/jupyter-js-widgets@~1.2.0/dist/embed.js\"></script><script type=\"application/vnd.jupyter-embedded-widgets\">{\n",
       "    \"93e8be619b53449783ae88a39746297f\": {\n",
       "        \"model_name\": \"LayoutModel\",\n",
       "        \"model_module\": \"jupyter-js-widgets\",\n",
       "        \"state\": {},\n",
       "        \"views\": []\n",
       "    },\n",
       "    \"ca0ebf8254e54a5f98a8fd09b629491e\": {\n",
       "        \"model_name\": \"BoxModel\",\n",
       "        \"model_module\": \"jupyter-js-widgets\",\n",
       "        \"state\": {\n",
       "            \"_dom_classes\": [\n",
       "                \"widget-interact\"\n",
       "            ],\n",
       "            \"children\": [\n",
       "                \"IPY_MODEL_f2c8120503b64bfd8abed2167e357833\"\n",
       "            ],\n",
       "            \"layout\": \"IPY_MODEL_93e8be619b53449783ae88a39746297f\"\n",
       "        },\n",
       "        \"views\": [\n",
       "            {\n",
       "                \"cell_index\": 0\n",
       "            }\n",
       "        ]\n",
       "    },\n",
       "    \"272a27c5efaa436f95adc41d5ea442ac\": {\n",
       "        \"model_name\": \"LayoutModel\",\n",
       "        \"model_module\": \"jupyter-js-widgets\",\n",
       "        \"state\": {},\n",
       "        \"views\": []\n",
       "    },\n",
       "    \"f2c8120503b64bfd8abed2167e357833\": {\n",
       "        \"model_name\": \"IntSliderModel\",\n",
       "        \"model_module\": \"jupyter-js-widgets\",\n",
       "        \"state\": {\n",
       "            \"description\": \"x\",\n",
       "            \"layout\": \"IPY_MODEL_272a27c5efaa436f95adc41d5ea442ac\",\n",
       "            \"max\": 30,\n",
       "            \"min\": -10,\n",
       "            \"value\": 30\n",
       "        },\n",
       "        \"views\": []\n",
       "    }\n",
       "}</script>"
      ],
      "text/plain": [
       "<IPython.core.display.HTML object>"
      ]
     },
     "metadata": {},
     "output_type": "display_data"
    }
   ],
   "source": [
    "%%HTML\n",
    "<script src=\"https://npmcdn.com/jupyter-js-widgets@~1.2.0/dist/embed.js\"></script><script type=\"application/vnd.jupyter-embedded-widgets\">{\n",
    "    \"93e8be619b53449783ae88a39746297f\": {\n",
    "        \"model_name\": \"LayoutModel\",\n",
    "        \"model_module\": \"jupyter-js-widgets\",\n",
    "        \"state\": {},\n",
    "        \"views\": []\n",
    "    },\n",
    "    \"ca0ebf8254e54a5f98a8fd09b629491e\": {\n",
    "        \"model_name\": \"BoxModel\",\n",
    "        \"model_module\": \"jupyter-js-widgets\",\n",
    "        \"state\": {\n",
    "            \"_dom_classes\": [\n",
    "                \"widget-interact\"\n",
    "            ],\n",
    "            \"children\": [\n",
    "                \"IPY_MODEL_f2c8120503b64bfd8abed2167e357833\"\n",
    "            ],\n",
    "            \"layout\": \"IPY_MODEL_93e8be619b53449783ae88a39746297f\"\n",
    "        },\n",
    "        \"views\": [\n",
    "            {\n",
    "                \"cell_index\": 0\n",
    "            }\n",
    "        ]\n",
    "    },\n",
    "    \"272a27c5efaa436f95adc41d5ea442ac\": {\n",
    "        \"model_name\": \"LayoutModel\",\n",
    "        \"model_module\": \"jupyter-js-widgets\",\n",
    "        \"state\": {},\n",
    "        \"views\": []\n",
    "    },\n",
    "    \"f2c8120503b64bfd8abed2167e357833\": {\n",
    "        \"model_name\": \"IntSliderModel\",\n",
    "        \"model_module\": \"jupyter-js-widgets\",\n",
    "        \"state\": {\n",
    "            \"description\": \"x\",\n",
    "            \"layout\": \"IPY_MODEL_272a27c5efaa436f95adc41d5ea442ac\",\n",
    "            \"max\": 30,\n",
    "            \"min\": -10,\n",
    "            \"value\": 30\n",
    "        },\n",
    "        \"views\": []\n",
    "    }\n",
    "}</script>"
   ]
  },
  {
   "cell_type": "code",
   "execution_count": 3,
   "metadata": {
    "collapsed": false,
    "extensions": {
     "jupyter_dashboards": {
      "version": 1,
      "views": {
       "grid_default": {
        "col": 0,
        "height": 4,
        "hidden": false,
        "row": 4,
        "width": 4
       },
       "report_default": {}
      }
     }
    }
   },
   "outputs": [
    {
     "data": {
      "text/plain": [
       "15"
      ]
     },
     "metadata": {},
     "output_type": "display_data"
    }
   ],
   "source": [
    "\n",
    "from __future__ import print_function\n",
    "from ipywidgets import interact, interactive, fixed\n",
    "import ipywidgets as widgets\n",
    "def f(x):\n",
    "    return x\n",
    "interact(f, x=10);"
   ]
  },
  {
   "cell_type": "code",
   "execution_count": null,
   "metadata": {
    "collapsed": true,
    "extensions": {
     "jupyter_dashboards": {
      "version": 1,
      "views": {
       "grid_default": {
        "hidden": true
       },
       "report_default": {}
      }
     }
    }
   },
   "outputs": [],
   "source": []
  }
 ],
 "metadata": {
  "extensions": {
   "jupyter_dashboards": {
    "activeView": "grid_default",
    "version": 1,
    "views": {
     "grid_default": {
      "cellMargin": 10,
      "defaultCellHeight": 20,
      "maxColumns": 12,
      "name": "grid",
      "type": "grid"
     },
     "report_default": {
      "name": "report",
      "type": "report"
     }
    }
   }
  },
  "kernelspec": {
   "display_name": "Python 3",
   "language": "python",
   "name": "python3"
  },
  "language_info": {
   "codemirror_mode": {
    "name": "ipython",
    "version": 3
   },
   "file_extension": ".py",
   "mimetype": "text/x-python",
   "name": "python",
   "nbconvert_exporter": "python",
   "pygments_lexer": "ipython3",
   "version": "3.6.0"
  },
  "widgets": {
   "state": {
    "c8ae44eae0bd469999450add132f0624": {
     "views": [
      {
       "cell_index": 3
      }
     ]
    }
   },
   "version": "1.2.0"
  }
 },
 "nbformat": 4,
 "nbformat_minor": 0
}
