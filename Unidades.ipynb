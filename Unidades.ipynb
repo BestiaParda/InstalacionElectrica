{
 "cells": [
  {
   "cell_type": "markdown",
   "metadata": {},
   "source": [
    "# Definiciones de las unidades derivadas I\n",
    "\n",
    "- Hertz o hercio ($Hz$). Unidad de frecuencia.\n",
    "Definición: un hercio es un ciclo por segundo.$Hz=\frac{1}{s}$\n",
    " \n",
    "- Newton ($N$). Unidad de fuerza.\n",
    "Definición: un newton es la fuerza necesaria para proporcionar una aceleración de 1 m/s² a un objeto cuya masa sea de 1 kg.\n",
    " \n",
    "- Pascal ($Pa$). Unidad de presión.\n",
    "Definición: un pascal es la presión normal (perpendicular) que una fuerza de un newton ejerce sobre una superficie de un metro cuadrado.\n",
    "\n",
    "- Julio o Joule ($J$). Unidad de trabajo y energía.\n",
    "Definición: un julio es el trabajo realizado por una fuerza de 1 newton para desplazar 1 m en la dirección de la fuerza a un objeto cuya masa sea de 1 kg.\n",
    " \n",
    "- Vatio ($W$). Unidad de potencia.\n",
    "Definición: un vatio es la potencia que genera una energía de un julio por segundo. En términos eléctricos, un vatio es la potencia producida por una diferencia de potencial de un voltio y una corriente eléctrica de un amperio.\n",
    " \n",
    "- Culombio ($C$). Unidad de carga eléctrica.\n",
    "Definición: un culombio es la cantidad de electricidad que una corriente de un amperio de intensidad transporta durante un segundo.\n",
    " \n",
    "- Voltio ($V$). Unidad de potencial eléctrico y fuerza electromotriz.\n",
    "Definición: diferencia de potencial a lo largo de un conductor cuando una corriente de una intensidad de un amperio utiliza un vatio de potencia.\n",
    " \n",
    "- Ohmio ($\\Omega$). Unidad de resistencia eléctrica.\n",
    "Definición: un ohmio es la resistencia eléctrica existente entre dos puntos de un conductor cuando -en ausencia de fuerza electromotriz en éste- una diferencia de potencial constante de un voltio aplicada entre esos dos puntos genera una corriente de intensidad de un amperio.\n",
    " \n",
    "- Siemens ($S$). Unidad de conductancia eléctrica.\n",
    "Definición: un siemens es la conductancia eléctrica existente entre dos puntos de un conductor de un ohmio de resistencia.\n",
    " \n"
   ]
  },
  {
   "cell_type": "markdown",
   "metadata": {},
   "source": [
    "# Definiciones de las unidades derivadas II\n",
    "\n",
    "- Faradio ($F$). Unidad de capacidad eléctrica.\n",
    "Definición: un faradio es la capacidad de un conductor que con la carga estática de un culombio adquiere una diferencia de potencial de un voltio.\n",
    " \n",
    "- Tesla ($T$). Unidad de densidad de flujo magnético e intensidad de campo magnético.\n",
    "Definición: un tesla es una inducción magnética uniforme que, repartida normalmente sobre una superficie de un metro cuadrado, a través de esta superficie produce un flujo magnético de un weber.\n",
    " \n",
    "- Weber ($Wb$). Unidad de flujo magnético.\n",
    "Definición: un weber es el flujo magnético que al atravesar un circuito uniespiral genera en éste una fuerza electromotriz de un voltio si se anula dicho flujo en un segundo por decrecimiento uniforme.\n",
    " \n",
    "- Henrio ($H$). Unidad de inductancia.\n",
    "Definición: un henrio es la inductancia de un circuito en el que una corriente que varía a razón de un amperio por segundo da como resultado una fuerza electromotrizautoinducida de un voltio.\n",
    " \n",
    "- Radián ($rad$). Unidad de ángulo plano.\n",
    "Definición: un radián es el ángulo que limita un arco de circunferencia cuya longitud es igual al radio de la circunferencia.\n",
    " \n",
    "- Estereorradián ($sr$). Unidad de ángulo sólido.\n",
    "Definición: un estereorradián es el ángulo sólido que, teniendo su vértice en el centro de una esfera, sobre la superficie de ésta cubre un área igual a la de un cuadrado cuyo lado equivalga al radio de la esfera.\n",
    " \n",
    "- Lumen ($lm$). Unidad de flujo luminoso.\n",
    "Definición: un lumen es el flujo luminoso producido por una candela de intensidad luminosa, repartida uniformemente en un estereorradián.\n",
    " \n",
    "- Lux ($lx$). Unidad de iluminancia.\n",
    "Definición: un lux es la iluminancia generada por un lumen de flujo luminoso, en una superficie equivalente a la de un cuadrado de un metro por lado."
   ]
  },
  {
   "cell_type": "code",
   "execution_count": null,
   "metadata": {
    "collapsed": true
   },
   "outputs": [],
   "source": []
  }
 ],
 "metadata": {
  "kernelspec": {
   "display_name": "SageMath 7.4",
   "language": "",
   "name": "sagemath"
  },
  "language_info": {
   "codemirror_mode": {
    "name": "ipython",
    "version": 2
   },
   "file_extension": ".py",
   "mimetype": "text/x-python",
   "name": "python",
   "nbconvert_exporter": "python",
   "pygments_lexer": "ipython2",
   "version": "2.7.10"
  }
 },
 "nbformat": 4,
 "nbformat_minor": 0
}
