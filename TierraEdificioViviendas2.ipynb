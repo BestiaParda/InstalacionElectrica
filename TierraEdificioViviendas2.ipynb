{
 "cells": [
  {
   "cell_type": "markdown",
   "metadata": {
    "collapsed": true
   },
   "source": [
    "# La resistencia de puesta a tierra en la edificaciones convencionales con sistema de distribución TT\n",
    "\n",
    "\n",
    "## Objeto\n",
    "El articulo trata de analizar el valor necesario de la resistencia de puesta tierra para un edificio convencional donde el valor de la puesta tierra se calculará únicamente para limitar la tensión de contacto.\n",
    "\n",
    "\n",
    "## Hipótesis de Partida\n",
    "Se trata de una edificación convencional, en el cual no existe ningún requerimiento para la puesta a tierra del edificio que no sea:\n",
    "    \n",
    "- limitar la tensión de contacto\n",
    "- El sistema de distribución de energía eléctrica en el edificio será TT\n",
    "\n",
    "\n",
    "\n",
    "## Tensión de contacto\n",
    "La intensidad que se produce al darse un defecto en el aislamiento de un equipo alimentado eléctricamente en el edificio puede determinarse a partir de los siguientes datos:\n",
    "    \n",
    "- Resistencia de puesta a tierra del edificio ($R_a$)\n",
    "- Resistencia del neutro del transformador ($R_b$)\n",
    "- Tensión entre fase y neutro ($U$)\n",
    "\n",
    "Se supondrá que la impedancia de los conductores que forman el circuito es despreciable frente a las resistencias de puesta a tierra del circuito.\n",
    "La intensidad del defecto será:\n",
    "    $$I_d=\\frac{U}{(R_a+R_b)}$$\n",
    "La tensión de contacto vendrá dada por la siguiente expresión:\n",
    "$$U_c=I_d*R_a$$\n",
    "\n",
    "Si damos un valor determinado a la resistencia de puesta a tierra del neutro del transformador, la tensión de contacto tendrá los siguientes valores en función de la resistencia de puesta a tierra del edificio.\n",
    "\n"
   ]
  },
  {
   "cell_type": "code",
   "execution_count": 1,
   "metadata": {
    "collapsed": false,
    "scrolled": true
   },
   "outputs": [
    {
     "data": {
      "text/plain": [
       "10"
      ]
     },
     "metadata": {},
     "output_type": "display_data"
    }
   ],
   "source": [
    "from __future__ import print_function\n",
    "from ipywidgets import interact, interactive, fixed\n",
    "import ipywidgets as widgets\n",
    "from IPython.display import display\n",
    "\n",
    "def f(x):\n",
    "    return x\n",
    "\n",
    "interact(f, x=10);\n",
    "\n"
   ]
  },
  {
   "cell_type": "markdown",
   "metadata": {
    "collapsed": true
   },
   "source": [
    "## Máxima Tensión de Contacto\n",
    "Suponiendo un ambiente seco, según el Reglamento Electrotécnico de Baja Tensión establece una tensión máxima de contacto segura de 50 V.\n",
    "Por tanto, los dos parámetros que limitan la tensión de contacto son las resistencias de puesta a tierra del neutro del transformador y la del edificio.\n",
    "\n",
    "## Resistencia de puesta a tierra del edificio\n",
    "Fijada la máxima tensión de contacto a 50 V tenemos que la resistencia de puesta a tierra del edificio se obtiene en función de la resistencia de puesta a tierra del neutro del transformador según :\n",
    "$$R_a=\\frac{R_b}{\\frac{U}{U_c}-1}$$\n",
    "Por tanto, dada la resistencia del neutro del transformador, tendremos la siguiente curva para obtener la resistencia del edificio necesaria para alcanzar una tensión de contacto máxima de 50 V.\n"
   ]
  },
  {
   "cell_type": "markdown",
   "metadata": {},
   "source": [
    "Como se puede observar en la figura, la resistencia de puesta a tierra del edificio debe ser 3,6 veces inferior a la puesta a tierra del neutro del transformador.\n",
    "Si como valor conservador suponemos que la resistencia del transformador es $100\\Omega$ las resistencia del Edificio debera ser inferior a $27,7\\Omega$."
   ]
  },
  {
   "cell_type": "code",
   "execution_count": null,
   "metadata": {
    "collapsed": true
   },
   "outputs": [],
   "source": []
  }
 ],
 "metadata": {
  "kernelspec": {
   "display_name": "Python 3",
   "language": "python",
   "name": "python3"
  },
  "language_info": {
   "codemirror_mode": {
    "name": "ipython",
    "version": 3
   },
   "file_extension": ".py",
   "mimetype": "text/x-python",
   "name": "python",
   "nbconvert_exporter": "python",
   "pygments_lexer": "ipython3",
   "version": "3.6.0"
  },
  "widgets": {
   "state": {
    "02a411580bee4663b18f34cb3fe48714": {
     "views": [
      {
       "cell_index": 1
      }
     ]
    }
   },
   "version": "1.2.0"
  }
 },
 "nbformat": 4,
 "nbformat_minor": 0
}
