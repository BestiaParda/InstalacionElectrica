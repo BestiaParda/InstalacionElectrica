{
 "cells": [
  {
   "cell_type": "code",
   "execution_count": 3,
   "metadata": {},
   "outputs": [
    {
     "data": {
      "application/vnd.jupyter.widget-view+json": {
       "model_id": "416279a100fc4a42a9b8de58bdc57a61",
       "version_major": 2,
       "version_minor": 0
      },
      "text/plain": [
       "A Jupyter Widget"
      ]
     },
     "metadata": {},
     "output_type": "display_data"
    }
   ],
   "source": [
    "from __future__ import print_function\n",
    "from ipywidgets import interact, interactive, fixed, interact_manual\n",
    "import ipywidgets as widgets\n",
    "def f(x):\n",
    "    return x\n",
    "interact(f, x=10);"
   ]
  },
  {
   "cell_type": "code",
   "execution_count": 4,
   "metadata": {},
   "outputs": [
    {
     "data": {
      "application/vnd.jupyter.widget-view+json": {
       "model_id": "799ef05392a54eba87adb7c9a5d5d67d",
       "version_major": 2,
       "version_minor": 0
      },
      "text/plain": [
       "A Jupyter Widget"
      ]
     },
     "metadata": {},
     "output_type": "display_data"
    }
   ],
   "source": [
    "from ipywidgets import interact\n",
    "\n",
    "interact(lambda x:x, x=True);"
   ]
  },
  {
   "cell_type": "code",
   "execution_count": null,
   "metadata": {
    "collapsed": true
   },
   "outputs": [],
   "source": []
  }
 ],
 "metadata": {
  "kernelspec": {
   "display_name": "Python 3",
   "language": "python",
   "name": "python3"
  },
  "language_info": {
   "codemirror_mode": {
    "name": "ipython",
    "version": 3
   },
   "file_extension": ".py",
   "mimetype": "text/x-python",
   "name": "python",
   "nbconvert_exporter": "python",
   "pygments_lexer": "ipython3",
   "version": "3.6.2"
  },
  "widgets": {
   "application/vnd.jupyter.widget-state+json": {
    "state": {
     "01b9f7f5462542c1b46c9a809cbed2df": {
      "model_module": "@jupyter-widgets/output",
      "model_module_version": "1.0.0",
      "model_name": "OutputModel",
      "state": {
       "layout": "IPY_MODEL_5b123045f43d4fe3a0be4a7422d82be4",
       "outputs": [
        {
         "data": {
          "text/plain": "True"
         },
         "metadata": {},
         "output_type": "display_data"
        }
       ]
      }
     },
     "0254315e5a434398873e1a04650bb786": {
      "model_module": "@jupyter-widgets/controls",
      "model_module_version": "1.0.0",
      "model_name": "IntSliderModel",
      "state": {
       "description": "x",
       "layout": "IPY_MODEL_741aff9b7f9642d2bf0ca3ec305d147a",
       "max": 30,
       "min": -10,
       "style": "IPY_MODEL_8093f9341a2c4b9fb5cfe8b3258c1cf6",
       "value": 10
      }
     },
     "091eac61e6684790b48a5c4581f18d7c": {
      "model_module": "@jupyter-widgets/controls",
      "model_module_version": "1.0.0",
      "model_name": "DescriptionStyleModel",
      "state": {
       "description_width": ""
      }
     },
     "0c3b0e288c5841ffac5913912ece3b5d": {
      "model_module": "@jupyter-widgets/base",
      "model_module_version": "1.0.0",
      "model_name": "LayoutModel",
      "state": {}
     },
     "0e2e4133066449d1966b95d17d20bb2a": {
      "model_module": "@jupyter-widgets/controls",
      "model_module_version": "1.0.0",
      "model_name": "CheckboxModel",
      "state": {
       "description": "x",
       "disabled": false,
       "layout": "IPY_MODEL_af0957f2bb4d4897ae3d37c68d6b6b42",
       "style": "IPY_MODEL_d6bbf6f1804f47b3b9f32c3ede9cc823",
       "value": true
      }
     },
     "0f0754c399744ee28c2c2407c8e40ef6": {
      "model_module": "@jupyter-widgets/base",
      "model_module_version": "1.0.0",
      "model_name": "LayoutModel",
      "state": {}
     },
     "1b1d8ccc0f8641dfa46cc4825a82cde4": {
      "model_module": "@jupyter-widgets/controls",
      "model_module_version": "1.0.0",
      "model_name": "SliderStyleModel",
      "state": {
       "description_width": ""
      }
     },
     "217e78dcc5c24beebce9fc7bf73b613b": {
      "model_module": "@jupyter-widgets/output",
      "model_module_version": "1.0.0",
      "model_name": "OutputModel",
      "state": {
       "layout": "IPY_MODEL_d92299b4944543859d10b9f0069f0ab8",
       "outputs": [
        {
         "data": {
          "text/plain": "False"
         },
         "metadata": {},
         "output_type": "display_data"
        }
       ]
      }
     },
     "26cdaa3fed474308b0d7c469efbf9001": {
      "model_module": "@jupyter-widgets/base",
      "model_module_version": "1.0.0",
      "model_name": "LayoutModel",
      "state": {}
     },
     "27700b0255b34f78b52cfb13d2ef5d4c": {
      "model_module": "@jupyter-widgets/base",
      "model_module_version": "1.0.0",
      "model_name": "LayoutModel",
      "state": {}
     },
     "3d7c81c3245746f0baa157ab3445c1c1": {
      "model_module": "@jupyter-widgets/base",
      "model_module_version": "1.0.0",
      "model_name": "LayoutModel",
      "state": {}
     },
     "3dae90cc13e94c408959dee0c9b7537d": {
      "model_module": "@jupyter-widgets/base",
      "model_module_version": "1.0.0",
      "model_name": "LayoutModel",
      "state": {}
     },
     "416279a100fc4a42a9b8de58bdc57a61": {
      "model_module": "@jupyter-widgets/controls",
      "model_module_version": "1.0.0",
      "model_name": "VBoxModel",
      "state": {
       "_dom_classes": [
        "widget-interact"
       ],
       "children": [
        "IPY_MODEL_843f1e5b046b4f2abd24ba965f0e5929",
        "IPY_MODEL_b54f4976c6aa453fab8fca0a54eb3808"
       ],
       "layout": "IPY_MODEL_59a7f2acf692432e81f7393ad9d6dc9c"
      }
     },
     "499bcd81aa0649a0b4446ed725b0fe4c": {
      "model_module": "@jupyter-widgets/controls",
      "model_module_version": "1.0.0",
      "model_name": "SliderStyleModel",
      "state": {
       "description_width": ""
      }
     },
     "510ddb64938b49c986623fc2ef77cdab": {
      "model_module": "@jupyter-widgets/controls",
      "model_module_version": "1.0.0",
      "model_name": "VBoxModel",
      "state": {
       "_dom_classes": [
        "widget-interact"
       ],
       "children": [
        "IPY_MODEL_e7591713483f4ecfaa0bd8d8c562000c",
        "IPY_MODEL_ec23788f26044c3e875721e790dba9fa"
       ],
       "layout": "IPY_MODEL_e7747320ab0149a2880f30aae44054c4"
      }
     },
     "53da4f8e859540cd9678e7d6fcd5d7d5": {
      "model_module": "@jupyter-widgets/base",
      "model_module_version": "1.0.0",
      "model_name": "LayoutModel",
      "state": {}
     },
     "59a7f2acf692432e81f7393ad9d6dc9c": {
      "model_module": "@jupyter-widgets/base",
      "model_module_version": "1.0.0",
      "model_name": "LayoutModel",
      "state": {}
     },
     "5a54623246d34bdd8334601a91176e55": {
      "model_module": "@jupyter-widgets/controls",
      "model_module_version": "1.0.0",
      "model_name": "CheckboxModel",
      "state": {
       "description": "x",
       "disabled": false,
       "layout": "IPY_MODEL_db69a717fbd24d7e9e3751ae52219166",
       "style": "IPY_MODEL_091eac61e6684790b48a5c4581f18d7c",
       "value": true
      }
     },
     "5a5b971f40ba430883392127c28e0151": {
      "model_module": "@jupyter-widgets/base",
      "model_module_version": "1.0.0",
      "model_name": "LayoutModel",
      "state": {}
     },
     "5af63596fecc4347ad7be3b9ab983226": {
      "model_module": "@jupyter-widgets/base",
      "model_module_version": "1.0.0",
      "model_name": "LayoutModel",
      "state": {}
     },
     "5b123045f43d4fe3a0be4a7422d82be4": {
      "model_module": "@jupyter-widgets/base",
      "model_module_version": "1.0.0",
      "model_name": "LayoutModel",
      "state": {}
     },
     "61a22ca88a294eb1bd5cfee394573190": {
      "model_module": "@jupyter-widgets/controls",
      "model_module_version": "1.0.0",
      "model_name": "IntSliderModel",
      "state": {
       "description": "x",
       "layout": "IPY_MODEL_7429fbe1a5e341518ba3c0818bb4d424",
       "max": 30,
       "min": -10,
       "style": "IPY_MODEL_1b1d8ccc0f8641dfa46cc4825a82cde4",
       "value": 22
      }
     },
     "61cfc0302f42435db800c796644e4c96": {
      "model_module": "@jupyter-widgets/controls",
      "model_module_version": "1.0.0",
      "model_name": "VBoxModel",
      "state": {
       "_dom_classes": [
        "widget-interact"
       ],
       "children": [
        "IPY_MODEL_61a22ca88a294eb1bd5cfee394573190",
        "IPY_MODEL_e9d9eb115103492cb111d751b26689c8"
       ],
       "layout": "IPY_MODEL_26cdaa3fed474308b0d7c469efbf9001"
      }
     },
     "6c06e4f38e8e47348184da79f59938aa": {
      "model_module": "@jupyter-widgets/base",
      "model_module_version": "1.0.0",
      "model_name": "LayoutModel",
      "state": {}
     },
     "70b2a6fe4b2b4567b4832495f346b0bf": {
      "model_module": "@jupyter-widgets/controls",
      "model_module_version": "1.0.0",
      "model_name": "VBoxModel",
      "state": {
       "_dom_classes": [
        "widget-interact"
       ],
       "children": [
        "IPY_MODEL_5a54623246d34bdd8334601a91176e55",
        "IPY_MODEL_add51b26df2544bbab0b8694c5aa66ce"
       ],
       "layout": "IPY_MODEL_0f0754c399744ee28c2c2407c8e40ef6"
      }
     },
     "70f6dc3a92554a328f7264154b9a1e00": {
      "model_module": "@jupyter-widgets/base",
      "model_module_version": "1.0.0",
      "model_name": "LayoutModel",
      "state": {}
     },
     "720670f91db04aa6ac1deb14ab99afd6": {
      "model_module": "@jupyter-widgets/controls",
      "model_module_version": "1.0.0",
      "model_name": "VBoxModel",
      "state": {
       "_dom_classes": [
        "widget-interact"
       ],
       "children": [
        "IPY_MODEL_0e2e4133066449d1966b95d17d20bb2a",
        "IPY_MODEL_01b9f7f5462542c1b46c9a809cbed2df"
       ],
       "layout": "IPY_MODEL_9ddfa2d538fd4910890dd6d882be949d"
      }
     },
     "741aff9b7f9642d2bf0ca3ec305d147a": {
      "model_module": "@jupyter-widgets/base",
      "model_module_version": "1.0.0",
      "model_name": "LayoutModel",
      "state": {}
     },
     "7429fbe1a5e341518ba3c0818bb4d424": {
      "model_module": "@jupyter-widgets/base",
      "model_module_version": "1.0.0",
      "model_name": "LayoutModel",
      "state": {}
     },
     "756517e623254e38837538aea83db24a": {
      "model_module": "@jupyter-widgets/controls",
      "model_module_version": "1.0.0",
      "model_name": "DescriptionStyleModel",
      "state": {
       "description_width": ""
      }
     },
     "799ef05392a54eba87adb7c9a5d5d67d": {
      "model_module": "@jupyter-widgets/controls",
      "model_module_version": "1.0.0",
      "model_name": "VBoxModel",
      "state": {
       "_dom_classes": [
        "widget-interact"
       ],
       "children": [
        "IPY_MODEL_a748abd8284d4cc7a335be5f99a05fbb",
        "IPY_MODEL_217e78dcc5c24beebce9fc7bf73b613b"
       ],
       "layout": "IPY_MODEL_6c06e4f38e8e47348184da79f59938aa"
      }
     },
     "8061085c66204c56b27a9942ddd7fc2c": {
      "model_module": "@jupyter-widgets/controls",
      "model_module_version": "1.0.0",
      "model_name": "SliderStyleModel",
      "state": {
       "description_width": ""
      }
     },
     "8093f9341a2c4b9fb5cfe8b3258c1cf6": {
      "model_module": "@jupyter-widgets/controls",
      "model_module_version": "1.0.0",
      "model_name": "SliderStyleModel",
      "state": {
       "description_width": ""
      }
     },
     "83c1ad5beae741dcb65384b5edddf8e9": {
      "model_module": "@jupyter-widgets/controls",
      "model_module_version": "1.0.0",
      "model_name": "VBoxModel",
      "state": {
       "_dom_classes": [
        "widget-interact"
       ],
       "children": [
        "IPY_MODEL_ee27e83f6a0a4cc0a4526531090b466d",
        "IPY_MODEL_97c175bf410b4afe9f00c0caf6d3df64"
       ],
       "layout": "IPY_MODEL_5af63596fecc4347ad7be3b9ab983226"
      }
     },
     "843f1e5b046b4f2abd24ba965f0e5929": {
      "model_module": "@jupyter-widgets/controls",
      "model_module_version": "1.0.0",
      "model_name": "IntSliderModel",
      "state": {
       "description": "x",
       "layout": "IPY_MODEL_c440deb687834667b99bfe0f4c3f576c",
       "max": 30,
       "min": -10,
       "style": "IPY_MODEL_499bcd81aa0649a0b4446ed725b0fe4c",
       "value": 29
      }
     },
     "8c2a96a6ea3344e7adf29610ec4d29d9": {
      "model_module": "@jupyter-widgets/base",
      "model_module_version": "1.0.0",
      "model_name": "LayoutModel",
      "state": {}
     },
     "97c175bf410b4afe9f00c0caf6d3df64": {
      "model_module": "@jupyter-widgets/output",
      "model_module_version": "1.0.0",
      "model_name": "OutputModel",
      "state": {
       "layout": "IPY_MODEL_5a5b971f40ba430883392127c28e0151",
       "outputs": [
        {
         "data": {
          "text/plain": "10"
         },
         "metadata": {},
         "output_type": "display_data"
        }
       ]
      }
     },
     "9ddfa2d538fd4910890dd6d882be949d": {
      "model_module": "@jupyter-widgets/base",
      "model_module_version": "1.0.0",
      "model_name": "LayoutModel",
      "state": {}
     },
     "9ef5dc0cfaa0419eaf4470a458137812": {
      "model_module": "@jupyter-widgets/controls",
      "model_module_version": "1.0.0",
      "model_name": "DescriptionStyleModel",
      "state": {
       "description_width": ""
      }
     },
     "a748abd8284d4cc7a335be5f99a05fbb": {
      "model_module": "@jupyter-widgets/controls",
      "model_module_version": "1.0.0",
      "model_name": "CheckboxModel",
      "state": {
       "description": "x",
       "disabled": false,
       "layout": "IPY_MODEL_70f6dc3a92554a328f7264154b9a1e00",
       "style": "IPY_MODEL_756517e623254e38837538aea83db24a",
       "value": false
      }
     },
     "add39650d1d34fa682583dc9430c38ae": {
      "model_module": "@jupyter-widgets/output",
      "model_module_version": "1.0.0",
      "model_name": "OutputModel",
      "state": {
       "layout": "IPY_MODEL_27700b0255b34f78b52cfb13d2ef5d4c",
       "outputs": [
        {
         "data": {
          "text/plain": "10"
         },
         "metadata": {},
         "output_type": "display_data"
        }
       ]
      }
     },
     "add51b26df2544bbab0b8694c5aa66ce": {
      "model_module": "@jupyter-widgets/output",
      "model_module_version": "1.0.0",
      "model_name": "OutputModel",
      "state": {
       "layout": "IPY_MODEL_53da4f8e859540cd9678e7d6fcd5d7d5",
       "outputs": [
        {
         "data": {
          "text/plain": "True"
         },
         "metadata": {},
         "output_type": "display_data"
        }
       ]
      }
     },
     "af0957f2bb4d4897ae3d37c68d6b6b42": {
      "model_module": "@jupyter-widgets/base",
      "model_module_version": "1.0.0",
      "model_name": "LayoutModel",
      "state": {}
     },
     "b18aeb7d189c4bc9a562beff9d311c02": {
      "model_module": "@jupyter-widgets/base",
      "model_module_version": "1.0.0",
      "model_name": "LayoutModel",
      "state": {}
     },
     "b54f4976c6aa453fab8fca0a54eb3808": {
      "model_module": "@jupyter-widgets/output",
      "model_module_version": "1.0.0",
      "model_name": "OutputModel",
      "state": {
       "layout": "IPY_MODEL_8c2a96a6ea3344e7adf29610ec4d29d9",
       "outputs": [
        {
         "data": {
          "text/plain": "29"
         },
         "metadata": {},
         "output_type": "display_data"
        }
       ]
      }
     },
     "c440deb687834667b99bfe0f4c3f576c": {
      "model_module": "@jupyter-widgets/base",
      "model_module_version": "1.0.0",
      "model_name": "LayoutModel",
      "state": {}
     },
     "c70eb933ef2049afa2e0e769be890de6": {
      "model_module": "@jupyter-widgets/base",
      "model_module_version": "1.0.0",
      "model_name": "LayoutModel",
      "state": {}
     },
     "ce5b9fd72f1442cb81e8aa138695b471": {
      "model_module": "@jupyter-widgets/controls",
      "model_module_version": "1.0.0",
      "model_name": "VBoxModel",
      "state": {
       "_dom_classes": [
        "widget-interact"
       ],
       "children": [
        "IPY_MODEL_0254315e5a434398873e1a04650bb786",
        "IPY_MODEL_add39650d1d34fa682583dc9430c38ae"
       ],
       "layout": "IPY_MODEL_b18aeb7d189c4bc9a562beff9d311c02"
      }
     },
     "d6bbf6f1804f47b3b9f32c3ede9cc823": {
      "model_module": "@jupyter-widgets/controls",
      "model_module_version": "1.0.0",
      "model_name": "DescriptionStyleModel",
      "state": {
       "description_width": ""
      }
     },
     "d92299b4944543859d10b9f0069f0ab8": {
      "model_module": "@jupyter-widgets/base",
      "model_module_version": "1.0.0",
      "model_name": "LayoutModel",
      "state": {}
     },
     "db69a717fbd24d7e9e3751ae52219166": {
      "model_module": "@jupyter-widgets/base",
      "model_module_version": "1.0.0",
      "model_name": "LayoutModel",
      "state": {}
     },
     "e7591713483f4ecfaa0bd8d8c562000c": {
      "model_module": "@jupyter-widgets/controls",
      "model_module_version": "1.0.0",
      "model_name": "CheckboxModel",
      "state": {
       "description": "x",
       "disabled": false,
       "layout": "IPY_MODEL_3dae90cc13e94c408959dee0c9b7537d",
       "style": "IPY_MODEL_9ef5dc0cfaa0419eaf4470a458137812",
       "value": true
      }
     },
     "e7747320ab0149a2880f30aae44054c4": {
      "model_module": "@jupyter-widgets/base",
      "model_module_version": "1.0.0",
      "model_name": "LayoutModel",
      "state": {}
     },
     "e9d9eb115103492cb111d751b26689c8": {
      "model_module": "@jupyter-widgets/output",
      "model_module_version": "1.0.0",
      "model_name": "OutputModel",
      "state": {
       "layout": "IPY_MODEL_c70eb933ef2049afa2e0e769be890de6",
       "outputs": [
        {
         "data": {
          "text/plain": "22"
         },
         "metadata": {},
         "output_type": "display_data"
        }
       ]
      }
     },
     "ec23788f26044c3e875721e790dba9fa": {
      "model_module": "@jupyter-widgets/output",
      "model_module_version": "1.0.0",
      "model_name": "OutputModel",
      "state": {
       "layout": "IPY_MODEL_3d7c81c3245746f0baa157ab3445c1c1",
       "outputs": [
        {
         "data": {
          "text/plain": "True"
         },
         "metadata": {},
         "output_type": "display_data"
        }
       ]
      }
     },
     "ee27e83f6a0a4cc0a4526531090b466d": {
      "model_module": "@jupyter-widgets/controls",
      "model_module_version": "1.0.0",
      "model_name": "IntSliderModel",
      "state": {
       "description": "x",
       "layout": "IPY_MODEL_0c3b0e288c5841ffac5913912ece3b5d",
       "max": 30,
       "min": -10,
       "style": "IPY_MODEL_8061085c66204c56b27a9942ddd7fc2c",
       "value": 10
      }
     }
    },
    "version_major": 2,
    "version_minor": 0
   }
  }
 },
 "nbformat": 4,
 "nbformat_minor": 2
}
