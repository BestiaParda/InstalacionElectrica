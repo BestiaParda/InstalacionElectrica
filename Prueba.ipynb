{
 "cells": [
  {
   "cell_type": "code",
   "execution_count": 18,
   "metadata": {
    "collapsed": false
   },
   "outputs": [],
   "source": [
    "\n",
    "from ipywidgets import *\n",
    "\n",
    "from IPython.display import display\n",
    "w = IntSlider()\n",
    "display(w)\n",
    "display(w)\n",
    "def f(x):\n",
    "    return x\n"
   ]
  },
  {
   "cell_type": "code",
   "execution_count": null,
   "metadata": {
    "collapsed": true
   },
   "outputs": [],
   "source": []
  }
 ],
 "metadata": {
  "kernelspec": {
   "display_name": "SageMath 7.4",
   "language": "",
   "name": "sagemath"
  },
  "language_info": {
   "codemirror_mode": {
    "name": "ipython",
    "version": 2
   },
   "file_extension": ".py",
   "mimetype": "text/x-python",
   "name": "python",
   "nbconvert_exporter": "python",
   "pygments_lexer": "ipython2",
   "version": "2.7.10"
  },
  "widgets": {
   "state": {
    "09dfd912309d4556a43b834d3408025e": {
     "views": [
      {
       "cell_index": 0
      }
     ]
    },
    "72078eb667704d64b07c005d7ea85d37": {
     "views": [
      {
       "cell_index": 0
      }
     ]
    },
    "8a84d8847e27401587ea02570765e2f9": {
     "views": [
      {
       "cell_index": 0
      },
      {
       "cell_index": 0
      }
     ]
    },
    "b8e5be6463dd43358ccbd9d9c0f5ffa4": {
     "views": [
      {
       "cell_index": 0
      }
     ]
    }
   },
   "version": "1.2.0"
  }
 },
 "nbformat": 4,
 "nbformat_minor": 0
}
